{
  "cells": [
    {
      "cell_type": "markdown",
      "metadata": {},
      "source": [
        "# Mercedes F1 Infringement Document Filter - Strict Version\n",
        "\n",
        "This notebook extracts Mercedes-specific infringement documents from the FIA PDF collection with strict filtering criteria.\n",
        "\n",
        "## Objective\n",
        "- Parse all PDF files in the Documents folder (2020-2024)\n",
        "- Filter ONLY for documents addressed specifically to \"Mercedes-AMG Petronas F1 Team\"\n",
        "- EXCLUDE documents addressed to \"All Teams\", \"All Officials\", or multiple teams\n",
        "- Extract text content from filtered PDFs\n",
        "- Save as individual .txt files organized by year\n",
        "\n",
        "## Key Differences from Previous Version\n",
        "- Stricter filtering: Only documents specifically addressed to Mercedes team\n",
        "- No car number-based filtering (only team address filtering)\n",
        "- Explicit exclusion of \"All Teams\" documents\n"
      ]
    },
    {
      "cell_type": "code",
      "execution_count": 1,
      "metadata": {},
      "outputs": [],
      "source": [
        "# Import required libraries\n",
        "import os\n",
        "import re\n",
        "from pathlib import Path\n",
        "import PyPDF2\n",
        "import pandas as pd\n",
        "from tqdm import tqdm\n",
        "import warnings\n",
        "warnings.filterwarnings('ignore')\n"
      ]
    },
    {
      "cell_type": "code",
      "execution_count": 2,
      "metadata": {},
      "outputs": [
        {
          "name": "stdout",
          "output_type": "stream",
          "text": [
            "Folder structure:\n",
            "  2020_inf_profile: 131 PDF files, 0 TXT files\n",
            "  2021_inf_profile: 175 PDF files, 0 TXT files\n",
            "  2022_inf_profile: 227 PDF files, 0 TXT files\n",
            "  2023_inf_profile: 194 PDF files, 0 TXT files\n",
            "  2024_inf_profile: 215 PDF files, 0 TXT files\n"
          ]
        }
      ],
      "source": [
        "# Configuration for folder structure\n",
        "base_path = Path(\"Documents\")\n",
        "years = [\"2020_inf_profile\", \"2021_inf_profile\", \n",
        "         \"2022_inf_profile\", \"2023_inf_profile\", \"2024_inf_profile\"]\n",
        "\n",
        "print(\"Folder structure:\")\n",
        "for year in years:\n",
        "    year_path = base_path / year\n",
        "    if year_path.exists():\n",
        "        pdf_count = len(list(year_path.glob(\"*.pdf\")))\n",
        "        txt_count = len(list(year_path.glob(\"*.txt\")))\n",
        "        print(f\"  {year}: {pdf_count} PDF files, {txt_count} TXT files\")\n",
        "    else:\n",
        "        print(f\"  {year}: Folder not found\")\n"
      ]
    },
    {
      "cell_type": "code",
      "execution_count": 3,
      "metadata": {},
      "outputs": [],
      "source": [
        "# Function to extract text from PDF\n",
        "def extract_pdf_text(pdf_path):\n",
        "    \"\"\"\n",
        "    Extract text from PDF file\n",
        "    Returns the full text content\n",
        "    \"\"\"\n",
        "    try:\n",
        "        with open(pdf_path, 'rb') as file:\n",
        "            pdf_reader = PyPDF2.PdfReader(file)\n",
        "            text = \"\"\n",
        "            \n",
        "            for page_num in range(len(pdf_reader.pages)):\n",
        "                page = pdf_reader.pages[page_num]\n",
        "                text += page.extract_text() + \"\\n\"\n",
        "            \n",
        "            return text\n",
        "    except Exception as e:\n",
        "        print(f\"Error reading {pdf_path}: {e}\")\n",
        "        return None\n"
      ]
    },
    {
      "cell_type": "code",
      "execution_count": 4,
      "metadata": {},
      "outputs": [],
      "source": [
        "# STRICT function to check if document is addressed ONLY to Mercedes team\n",
        "def is_mercedes_document_strict(text):\n",
        "    \"\"\"\n",
        "    Check if the document is addressed ONLY to Mercedes-AMG Petronas F1 Team\n",
        "    EXCLUDE documents addressed to multiple teams or officials\n",
        "    \"\"\"\n",
        "    if not text:\n",
        "        return False\n",
        "    \n",
        "    # Convert to lowercase for case-insensitive matching\n",
        "    text_lower = text.lower()\n",
        "    \n",
        "    # Check first 2000 characters (header section)\n",
        "    header_section = text_lower[:2000]\n",
        "    \n",
        "    # EXCLUDE documents addressed to multiple teams/officials\n",
        "    exclude_patterns = [\n",
        "        r'to\\s+all\\s+teams,?\\s+all\\s+officials',\n",
        "        r'to\\s+all\\s+teams',\n",
        "        r'all\\s+teams,?\\s+all\\s+officials',\n",
        "        r'to\\s+all\\s+competitors',\n",
        "        r'all\\s+competitors',\n",
        "        r'to\\s+all\\s+participants',\n",
        "        r'all\\s+participants',\n",
        "        r'to\\s+all\\s+drivers',\n",
        "        r'all\\s+drivers',\n",
        "        r'to\\s+all\\s+constructors',\n",
        "        r'all\\s+constructors'\n",
        "    ]\n",
        "    \n",
        "    for pattern in exclude_patterns:\n",
        "        if re.search(pattern, header_section, re.IGNORECASE):\n",
        "            return False  # Exclude this document\n",
        "    \n",
        "    # INCLUDE ONLY documents specifically addressed to Mercedes team\n",
        "    mercedes_patterns = [\n",
        "        r'to:\\s*the team manager,?\\s*mercedes[-\\s]*amg\\s*petronas\\s*f1\\s*team',\n",
        "        r'to\\s+the team manager,?\\s*mercedes[-\\s]*amg\\s*petronas\\s*f1\\s*team',\n",
        "        r'to\\s+mercedes[-\\s]*amg\\s*petronas\\s*f1\\s*team',\n",
        "        r'mercedes[-\\s]*amg\\s*petronas\\s*f1\\s*team\\s*manager',\n",
        "        r'mercedes[-\\s]*amg\\s*petronas\\s*f1\\s*team'\n",
        "    ]\n",
        "    \n",
        "    # Check for Mercedes team references\n",
        "    for pattern in mercedes_patterns:\n",
        "        if re.search(pattern, header_section, re.IGNORECASE):\n",
        "            return True\n",
        "    \n",
        "    return False\n"
      ]
    },
    {
      "cell_type": "code",
      "execution_count": 5,
      "metadata": {},
      "outputs": [],
      "source": [
        "# Function to clean and save text content\n",
        "def clean_text(text):\n",
        "    \"\"\"\n",
        "    Clean extracted text\n",
        "    \"\"\"\n",
        "    if not text:\n",
        "        return \"\"\n",
        "    \n",
        "    # Remove excessive whitespace and normalize\n",
        "    text = re.sub(r'\\s+', ' ', text)\n",
        "    text = text.strip()\n",
        "    \n",
        "    return text\n"
      ]
    },
    {
      "cell_type": "code",
      "execution_count": 6,
      "metadata": {},
      "outputs": [],
      "source": [
        "# Main processing function with strict filtering\n",
        "def process_year_folder_strict(year_folder):\n",
        "    \"\"\"\n",
        "    Process all PDFs in a year folder and extract Mercedes documents with strict filtering\n",
        "    Skip PDFs that already have corresponding TXT files\n",
        "    \"\"\"\n",
        "    year_path = base_path / year_folder\n",
        "    if not year_path.exists():\n",
        "        print(f\"Folder {year_path} does not exist\")\n",
        "        return []\n",
        "    \n",
        "    pdf_files = list(year_path.glob(\"*.pdf\"))\n",
        "    print(f\"\\nProcessing {len(pdf_files)} PDF files in {year_folder}...\")\n",
        "    \n",
        "    mercedes_docs = []\n",
        "    skipped_count = 0\n",
        "    excluded_count = 0\n",
        "    \n",
        "    for pdf_file in tqdm(pdf_files, desc=\"Processing PDFs\"):\n",
        "        # Check if TXT file already exists\n",
        "        txt_filename = pdf_file.stem + \".txt\"\n",
        "        txt_path = year_path / txt_filename\n",
        "        \n",
        "        if txt_path.exists():\n",
        "            # TXT file already exists, skip processing\n",
        "            skipped_count += 1\n",
        "            continue\n",
        "        \n",
        "        # Extract text from PDF\n",
        "        text = extract_pdf_text(pdf_file)\n",
        "        \n",
        "        if text and is_mercedes_document_strict(text):\n",
        "            # Clean the text\n",
        "            cleaned_text = clean_text(text)\n",
        "            \n",
        "            # Save as text file\n",
        "            try:\n",
        "                with open(txt_path, 'w', encoding='utf-8') as f:\n",
        "                    f.write(cleaned_text)\n",
        "                \n",
        "                mercedes_docs.append({\n",
        "                    'pdf_file': pdf_file.name,\n",
        "                    'txt_file': txt_filename,\n",
        "                    'year': year_folder,\n",
        "                    'text_length': len(cleaned_text)\n",
        "                })\n",
        "                \n",
        "                print(f\"✓ Found Mercedes document: {pdf_file.name}\")\n",
        "                \n",
        "            except Exception as e:\n",
        "                print(f\"Error saving {txt_filename}: {e}\")\n",
        "        else:\n",
        "            excluded_count += 1\n",
        "    \n",
        "    print(f\"Skipped {skipped_count} PDFs (TXT files already exist)\")\n",
        "    print(f\"Excluded {excluded_count} PDFs (not addressed to Mercedes only)\")\n",
        "    return mercedes_docs\n"
      ]
    },
    {
      "cell_type": "code",
      "execution_count": 7,
      "metadata": {},
      "outputs": [
        {
          "name": "stdout",
          "output_type": "stream",
          "text": [
            "============================================================\n",
            "PROCESSING ALL YEARS WITH STRICT MERCEDES FILTERING\n",
            "============================================================\n",
            "\n",
            "==================================================\n",
            "PROCESSING 2020_INF_PROFILE\n",
            "==================================================\n",
            "\n",
            "Processing 131 PDF files in 2020_inf_profile...\n"
          ]
        },
        {
          "name": "stderr",
          "output_type": "stream",
          "text": [
            "Processing PDFs:   5%|▌         | 7/131 [00:00<00:15,  8.25it/s]"
          ]
        },
        {
          "name": "stdout",
          "output_type": "stream",
          "text": [
            "✓ Found Mercedes document: 2020 Austrian Grand Prix - Decision - Car 44 - alleged failure to slow for yellow flags.pdf\n"
          ]
        },
        {
          "name": "stderr",
          "output_type": "stream",
          "text": [
            "Processing PDFs:  10%|▉         | 13/131 [00:01<00:12,  9.30it/s]"
          ]
        },
        {
          "name": "stdout",
          "output_type": "stream",
          "text": [
            "✓ Found Mercedes document: 2020 Austrian Grand Prix - Decision - review of decision (document 33).pdf\n"
          ]
        },
        {
          "name": "stderr",
          "output_type": "stream",
          "text": [
            "Processing PDFs:  18%|█▊        | 23/131 [00:01<00:05, 19.20it/s]"
          ]
        },
        {
          "name": "stdout",
          "output_type": "stream",
          "text": [
            "✓ Found Mercedes document: 2020 Austrian Grand Prix - Offence - Car 44 - Failure to slow for yellow flags (post review).pdf\n",
            "✓ Found Mercedes document: 2020 Austrian Grand Prix - Offence - Car 44 - incident with car 23.pdf\n",
            "✓ Found Mercedes document: 2020 Austrian Grand Prix - Offence - Car 44 - Leaving the track in turn 10.pdf\n",
            "✓ Found Mercedes document: 2020 Austrian Grand Prix - Offence - Car 44 - Track Limits turn 10.pdf\n"
          ]
        },
        {
          "name": "stderr",
          "output_type": "stream",
          "text": [
            "Processing PDFs:  53%|█████▎    | 70/131 [00:03<00:01, 35.82it/s]"
          ]
        },
        {
          "name": "stdout",
          "output_type": "stream",
          "text": [
            "✓ Found Mercedes document: 2020 Italian Grand Prix - Offence - Car 44 - Entering closed pit lane.pdf\n"
          ]
        },
        {
          "name": "stderr",
          "output_type": "stream",
          "text": [
            "Processing PDFs:  66%|██████▌   | 86/131 [00:03<00:01, 31.75it/s]"
          ]
        },
        {
          "name": "stdout",
          "output_type": "stream",
          "text": [
            "✓ Found Mercedes document: 2020 Russian Grand Prix - Decision - Car 44 - Turn 2 .pdf\n"
          ]
        },
        {
          "name": "stderr",
          "output_type": "stream",
          "text": [
            "Processing PDFs:  76%|███████▋  | 100/131 [00:03<00:00, 33.91it/s]"
          ]
        },
        {
          "name": "stdout",
          "output_type": "stream",
          "text": [
            "✓ Found Mercedes document: 2020 Russian Grand Prix - Replacement for Document 46 - Offence - Car 44 - 1st Practice Start.pdf\n",
            "✓ Found Mercedes document: 2020 Russian Grand Prix - Replacement for Document 47 - Offence - Car 44 - 2nd Practice Start.pdf\n",
            "✓ Found Mercedes document: 2020 Sakhir Grand Prix - Offence - Mercedes - Car 63 incorrect use of tyres.pdf\n"
          ]
        },
        {
          "name": "stderr",
          "output_type": "stream",
          "text": [
            "Processing PDFs: 100%|██████████| 131/131 [00:04<00:00, 28.26it/s]\n"
          ]
        },
        {
          "name": "stdout",
          "output_type": "stream",
          "text": [
            "Skipped 0 PDFs (TXT files already exist)\n",
            "Excluded 120 PDFs (not addressed to Mercedes only)\n",
            "\n",
            "✓ Found 11 Mercedes documents in 2020_inf_profile\n",
            "  - 2020 Austrian Grand Prix - Decision - Car 44 - alleged failure to slow for yellow flags.pdf (1438 chars)\n",
            "  - 2020 Austrian Grand Prix - Decision - review of decision (document 33).pdf (1124 chars)\n",
            "  - 2020 Austrian Grand Prix - Offence - Car 44 - Failure to slow for yellow flags (post review).pdf (1632 chars)\n",
            "  - 2020 Austrian Grand Prix - Offence - Car 44 - incident with car 23.pdf (1418 chars)\n",
            "  - 2020 Austrian Grand Prix - Offence - Car 44 - Leaving the track in turn 10.pdf (1623 chars)\n",
            "  - 2020 Austrian Grand Prix - Offence - Car 44 - Track Limits turn 10.pdf (1361 chars)\n",
            "  - 2020 Italian Grand Prix - Offence - Car 44 - Entering closed pit lane.pdf (1304 chars)\n",
            "  - 2020 Russian Grand Prix - Decision - Car 44 - Turn 2 .pdf (1928 chars)\n",
            "  - 2020 Russian Grand Prix - Replacement for Document 46 - Offence - Car 44 - 1st Practice Start.pdf (1570 chars)\n",
            "  - 2020 Russian Grand Prix - Replacement for Document 47 - Offence - Car 44 - 2nd Practice Start.pdf (1440 chars)\n",
            "  - 2020 Sakhir Grand Prix - Offence - Mercedes - Car 63 incorrect use of tyres.pdf (2992 chars)\n",
            "\n",
            "==================================================\n",
            "PROCESSING 2021_INF_PROFILE\n",
            "==================================================\n",
            "\n",
            "Processing 175 PDF files in 2021_inf_profile...\n"
          ]
        },
        {
          "name": "stderr",
          "output_type": "stream",
          "text": [
            "Processing PDFs:  15%|█▍        | 26/175 [00:00<00:02, 62.06it/s]"
          ]
        },
        {
          "name": "stdout",
          "output_type": "stream",
          "text": [
            "✓ Found Mercedes document: 2021 Austrian Grand Prix - Decision - Car 77 - Alleged driving unnecessarily slowly .pdf\n"
          ]
        },
        {
          "name": "stderr",
          "output_type": "stream",
          "text": [
            "Processing PDFs:  30%|███       | 53/175 [00:01<00:02, 45.62it/s]"
          ]
        },
        {
          "name": "stdout",
          "output_type": "stream",
          "text": [
            "✓ Found Mercedes document: 2021 Brazilian Grand Prix - Offence - Car 44 - DRS.pdf\n",
            "✓ Found Mercedes document: 2021 Brazilian Grand Prix - Offence - Car 44 - PU element.pdf\n",
            "✓ Found Mercedes document: 2021 Brazilian Grand Prix - Offence - Car 44 - Safety Belts.pdf\n"
          ]
        },
        {
          "name": "stderr",
          "output_type": "stream",
          "text": [
            "Processing PDFs:  33%|███▎      | 58/175 [00:01<00:02, 41.95it/s]"
          ]
        },
        {
          "name": "stdout",
          "output_type": "stream",
          "text": [
            "✓ Found Mercedes document: 2021 British Grand Prix - Offence - Car 44 - Causing a collision with car 33.pdf\n"
          ]
        },
        {
          "name": "stderr",
          "output_type": "stream",
          "text": [
            "Processing PDFs:  57%|█████▋    | 100/175 [00:01<00:01, 58.48it/s]"
          ]
        },
        {
          "name": "stdout",
          "output_type": "stream",
          "text": [
            "✓ Found Mercedes document: 2021 Hungarian Grand Prix - Offence - Car 77 - causing a collision.pdf\n",
            "✓ Found Mercedes document: 2021 Hungarian Grand Prix - Offence - Car 77 - Pre-Race procedure.pdf\n"
          ]
        },
        {
          "name": "stderr",
          "output_type": "stream",
          "text": [
            "Processing PDFs:  70%|███████   | 123/175 [00:02<00:00, 68.31it/s]"
          ]
        },
        {
          "name": "stdout",
          "output_type": "stream",
          "text": [
            "✓ Found Mercedes document: 2021 Italian Grand Prix - Offence - Car 77 - PU element.pdf\n",
            "✓ Found Mercedes document: 2021 Italian Grand Prix - Offence - Car 77 - PU elements.pdf\n",
            "✓ Found Mercedes document: 2021 Mexican Grand Prix - Offence - Car 44 - Turn 2 .pdf\n"
          ]
        },
        {
          "name": "stderr",
          "output_type": "stream",
          "text": [
            "Processing PDFs:  82%|████████▏ | 144/175 [00:02<00:00, 61.05it/s]"
          ]
        },
        {
          "name": "stdout",
          "output_type": "stream",
          "text": [
            "✓ Found Mercedes document: 2021 Qatar Grand Prix - Offence - Car 77 - Single waved yellow flag.pdf\n",
            "✓ Found Mercedes document: 2021 Russian Grand Prix - Offence - Car 77 - PU elements.pdf\n"
          ]
        },
        {
          "name": "stderr",
          "output_type": "stream",
          "text": [
            "Processing PDFs:  90%|█████████ | 158/175 [00:02<00:00, 63.94it/s]"
          ]
        },
        {
          "name": "stdout",
          "output_type": "stream",
          "text": [
            "✓ Found Mercedes document: 2021 Saudi Arabian Grand Prix - Decision - Car 44 - double yellow.pdf\n",
            "✓ Found Mercedes document: 2021 Saudi Arabian Grand Prix - Offence - Car 44 - Impeding.pdf\n"
          ]
        },
        {
          "name": "stderr",
          "output_type": "stream",
          "text": [
            "Processing PDFs:  98%|█████████▊| 172/175 [00:02<00:00, 65.11it/s]"
          ]
        },
        {
          "name": "stdout",
          "output_type": "stream",
          "text": [
            "✓ Found Mercedes document: 2021 Turkish Grand Prix - Offence - Car 44 - PU element.pdf\n",
            "✓ Found Mercedes document: 2021 United States Grand Prix - Offence - Car 77 - PU elements.pdf\n"
          ]
        },
        {
          "name": "stderr",
          "output_type": "stream",
          "text": [
            "Processing PDFs: 100%|██████████| 175/175 [00:03<00:00, 54.69it/s]\n"
          ]
        },
        {
          "name": "stdout",
          "output_type": "stream",
          "text": [
            "Skipped 0 PDFs (TXT files already exist)\n",
            "Excluded 159 PDFs (not addressed to Mercedes only)\n",
            "\n",
            "✓ Found 16 Mercedes documents in 2021_inf_profile\n",
            "  - 2021 Austrian Grand Prix - Decision - Car 77 - Alleged driving unnecessarily slowly .pdf (1463 chars)\n",
            "  - 2021 Brazilian Grand Prix - Offence - Car 44 - DRS.pdf (8030 chars)\n",
            "  - 2021 Brazilian Grand Prix - Offence - Car 44 - PU element.pdf (1046 chars)\n",
            "  - 2021 Brazilian Grand Prix - Offence - Car 44 - Safety Belts.pdf (1667 chars)\n",
            "  - 2021 British Grand Prix - Offence - Car 44 - Causing a collision with car 33.pdf (1370 chars)\n",
            "  - 2021 Hungarian Grand Prix - Offence - Car 77 - causing a collision.pdf (1230 chars)\n",
            "  - 2021 Hungarian Grand Prix - Offence - Car 77 - Pre-Race procedure.pdf (1231 chars)\n",
            "  - 2021 Italian Grand Prix - Offence - Car 77 - PU element.pdf (1136 chars)\n",
            "  - 2021 Italian Grand Prix - Offence - Car 77 - PU elements.pdf (1141 chars)\n",
            "  - 2021 Mexican Grand Prix - Offence - Car 44 - Turn 2 .pdf (1569 chars)\n",
            "  - 2021 Qatar Grand Prix - Offence - Car 77 - Single waved yellow flag.pdf (1471 chars)\n",
            "  - 2021 Russian Grand Prix - Offence - Car 77 - PU elements.pdf (1072 chars)\n",
            "  - 2021 Saudi Arabian Grand Prix - Decision - Car 44 - double yellow.pdf (1837 chars)\n",
            "  - 2021 Saudi Arabian Grand Prix - Offence - Car 44 - Impeding.pdf (2025 chars)\n",
            "  - 2021 Turkish Grand Prix - Offence - Car 44 - PU element.pdf (991 chars)\n",
            "  - 2021 United States Grand Prix - Offence - Car 77 - PU elements.pdf (998 chars)\n",
            "\n",
            "==================================================\n",
            "PROCESSING 2022_INF_PROFILE\n",
            "==================================================\n",
            "\n",
            "Processing 227 PDF files in 2022_inf_profile...\n"
          ]
        },
        {
          "name": "stderr",
          "output_type": "stream",
          "text": [
            "Processing PDFs:   3%|▎         | 7/227 [00:00<00:03, 64.60it/s]"
          ]
        },
        {
          "name": "stdout",
          "output_type": "stream",
          "text": [
            "✓ Found Mercedes document: 2022 Abu Dhabi Grand Prix - Decision - Car 44 - Red Flag_0.pdf\n",
            "✓ Found Mercedes document: 2022 Abu Dhabi Grand Prix - Offence - Car 44 - Pit lane speeding.pdf\n",
            "✓ Found Mercedes document: 2022 Abu Dhabi Grand Prix - Offence - Car 63 - Unsafe release.pdf\n",
            "✓ Found Mercedes document: 2022 Australian Grand Prix - Decision - Car 44 - Alleged impeding of Car 18 at turn 13.pdf\n"
          ]
        },
        {
          "name": "stderr",
          "output_type": "stream",
          "text": [
            "Processing PDFs:  19%|█▉        | 43/227 [00:00<00:02, 67.72it/s]"
          ]
        },
        {
          "name": "stdout",
          "output_type": "stream",
          "text": [
            "✓ Found Mercedes document: 2022 Austrian Grand Prix - Offence - Car 44 - Parc Ferme Instructions.pdf\n",
            "✓ Found Mercedes document: 2022 Austrian Grand Prix - Offence - Car 63 - Causing a collision.pdf\n",
            "✓ Found Mercedes document: 2022 Austrian Grand Prix - Offence - Car 63 - Entered the track on foot.pdf\n",
            "✓ Found Mercedes document: 2022 Azerbaijan Grand Prix - Decision - Car 44 - Allegedly driving unnecessarily slowly during Qualifying.pdf\n"
          ]
        },
        {
          "name": "stderr",
          "output_type": "stream",
          "text": [
            "Processing PDFs:  33%|███▎      | 75/227 [00:01<00:02, 71.37it/s]"
          ]
        },
        {
          "name": "stdout",
          "output_type": "stream",
          "text": [
            "✓ Found Mercedes document: 2022 Belgian Grand Prix - Offence - Car 44 - Alleged causing a collision.pdf\n"
          ]
        },
        {
          "name": "stderr",
          "output_type": "stream",
          "text": [
            "Processing PDFs:  50%|█████     | 114/227 [00:01<00:01, 67.29it/s]"
          ]
        },
        {
          "name": "stdout",
          "output_type": "stream",
          "text": [
            "✓ Found Mercedes document: 2022 Dutch Grand Prix - Offence - Car 44 - Alleged impeding of Car 55.pdf\n"
          ]
        },
        {
          "name": "stderr",
          "output_type": "stream",
          "text": [
            "Processing PDFs:  64%|██████▍   | 146/227 [00:02<00:01, 69.93it/s]"
          ]
        },
        {
          "name": "stdout",
          "output_type": "stream",
          "text": [
            "✓ Found Mercedes document: 2022 Italian Grand Prix - Offence - Car 44 - PU element.pdf\n"
          ]
        },
        {
          "name": "stderr",
          "output_type": "stream",
          "text": [
            "Processing PDFs:  88%|████████▊ | 200/227 [00:03<00:00, 61.94it/s]"
          ]
        },
        {
          "name": "stdout",
          "output_type": "stream",
          "text": [
            "✓ Found Mercedes document: 2022 Singapore Grand Prix - Decision - Car 44 - Breach of Appendix L.pdf\n",
            "✓ Found Mercedes document: 2022 Singapore Grand Prix - Offence - Car 63 - Pit lane speeding.pdf\n",
            "✓ Found Mercedes document: 2022 Singapore Grand Prix - Offence - Car 63 - PU elements.pdf\n"
          ]
        },
        {
          "name": "stderr",
          "output_type": "stream",
          "text": [
            "Processing PDFs: 100%|██████████| 227/227 [00:03<00:00, 65.26it/s]\n"
          ]
        },
        {
          "name": "stdout",
          "output_type": "stream",
          "text": [
            "✓ Found Mercedes document: 2022 United States Grand Prix - Offence - Car 63 - T1 Incident with car 55.pdf\n",
            "Skipped 0 PDFs (TXT files already exist)\n",
            "Excluded 212 PDFs (not addressed to Mercedes only)\n",
            "\n",
            "✓ Found 15 Mercedes documents in 2022_inf_profile\n",
            "  - 2022 Abu Dhabi Grand Prix - Decision - Car 44 - Red Flag_0.pdf (2805 chars)\n",
            "  - 2022 Abu Dhabi Grand Prix - Offence - Car 44 - Pit lane speeding.pdf (1015 chars)\n",
            "  - 2022 Abu Dhabi Grand Prix - Offence - Car 63 - Unsafe release.pdf (1037 chars)\n",
            "  - 2022 Australian Grand Prix - Decision - Car 44 - Alleged impeding of Car 18 at turn 13.pdf (1313 chars)\n",
            "  - 2022 Austrian Grand Prix - Offence - Car 44 - Parc Ferme Instructions.pdf (1593 chars)\n",
            "  - 2022 Austrian Grand Prix - Offence - Car 63 - Causing a collision.pdf (1443 chars)\n",
            "  - 2022 Austrian Grand Prix - Offence - Car 63 - Entered the track on foot.pdf (1564 chars)\n",
            "  - 2022 Azerbaijan Grand Prix - Decision - Car 44 - Allegedly driving unnecessarily slowly during Qualifying.pdf (1741 chars)\n",
            "  - 2022 Belgian Grand Prix - Offence - Car 44 - Alleged causing a collision.pdf (1503 chars)\n",
            "  - 2022 Dutch Grand Prix - Offence - Car 44 - Alleged impeding of Car 55.pdf (1758 chars)\n",
            "  - 2022 Italian Grand Prix - Offence - Car 44 - PU element.pdf (1135 chars)\n",
            "  - 2022 Singapore Grand Prix - Decision - Car 44 - Breach of Appendix L.pdf (1698 chars)\n",
            "  - 2022 Singapore Grand Prix - Offence - Car 63 - Pit lane speeding.pdf (1010 chars)\n",
            "  - 2022 Singapore Grand Prix - Offence - Car 63 - PU elements.pdf (1718 chars)\n",
            "  - 2022 United States Grand Prix - Offence - Car 63 - T1 Incident with car 55.pdf (1134 chars)\n",
            "\n",
            "==================================================\n",
            "PROCESSING 2023_INF_PROFILE\n",
            "==================================================\n",
            "\n",
            "Processing 194 PDF files in 2023_inf_profile...\n"
          ]
        },
        {
          "name": "stderr",
          "output_type": "stream",
          "text": [
            "Processing PDFs:   0%|          | 0/194 [00:00<?, ?it/s]"
          ]
        },
        {
          "name": "stdout",
          "output_type": "stream",
          "text": [
            "✓ Found Mercedes document: 2023 Abu Dhabi Grand Prix - Infringement - Mercedes - Team Principal (Updated).pdf\n"
          ]
        },
        {
          "name": "stderr",
          "output_type": "stream",
          "text": [
            "Processing PDFs:   9%|▉         | 17/194 [00:00<00:05, 32.26it/s]"
          ]
        },
        {
          "name": "stdout",
          "output_type": "stream",
          "text": [
            "✓ Found Mercedes document: 2023 Australian Grand Prix - Decision - Mercedes - Inaccurate Self Scrutineering Form.pdf\n"
          ]
        },
        {
          "name": "stderr",
          "output_type": "stream",
          "text": [
            "Processing PDFs:  20%|█▉        | 38/194 [00:00<00:03, 46.47it/s]"
          ]
        },
        {
          "name": "stdout",
          "output_type": "stream",
          "text": [
            "✓ Found Mercedes document: 2023 Austrian Grand Prix - Infringement - Car 44 - Leaving the track multiple times.pdf\n",
            "✓ Found Mercedes document: 2023 Austrian Grand Prix - Infringement - Car 44 - Pit Lane Speeding.pdf\n"
          ]
        },
        {
          "name": "stderr",
          "output_type": "stream",
          "text": [
            "Processing PDFs:  27%|██▋       | 53/194 [00:01<00:02, 56.24it/s]"
          ]
        },
        {
          "name": "stdout",
          "output_type": "stream",
          "text": [
            "✓ Found Mercedes document: 2023 Bahrain Grand Prix - Decision - Car 44 - Wearing of Jewellery.pdf\n"
          ]
        },
        {
          "name": "stderr",
          "output_type": "stream",
          "text": [
            "Processing PDFs:  35%|███▍      | 67/194 [00:01<00:02, 61.27it/s]"
          ]
        },
        {
          "name": "stdout",
          "output_type": "stream",
          "text": [
            "✓ Found Mercedes document: 2023 Belgian Grand Prix - Infringement - Car 44 - Causing a Collision.pdf\n",
            "✓ Found Mercedes document: 2023 British Grand Prix - Infringement - Mercedes - Thursday Press Conference.pdf\n",
            "✓ Found Mercedes document: 2023 Canadian Grand Prix - Decision - Car 44 - Alleged Unsafe Release.pdf\n"
          ]
        },
        {
          "name": "stderr",
          "output_type": "stream",
          "text": [
            "Processing PDFs:  56%|█████▌    | 109/194 [00:02<00:01, 61.49it/s]"
          ]
        },
        {
          "name": "stdout",
          "output_type": "stream",
          "text": [
            "✓ Found Mercedes document: 2023 Italian Grand Prix - Infringement - Car 44 - Causing a Collision.pdf\n",
            "✓ Found Mercedes document: 2023 Italian Grand Prix - Infringement - Car 63 - Leaving the track.pdf\n",
            "✓ Found Mercedes document: 2023 Las Vegas Grand Prix - Infringement - Car 63 - Causing a collision.pdf\n"
          ]
        },
        {
          "name": "stderr",
          "output_type": "stream",
          "text": [
            "Processing PDFs:  68%|██████▊   | 132/194 [00:02<00:00, 70.26it/s]"
          ]
        },
        {
          "name": "stdout",
          "output_type": "stream",
          "text": [
            "✓ Found Mercedes document: 2023 Miami Grand Prix - Decision - Car 44 - Turn 17 Incident.pdf\n"
          ]
        },
        {
          "name": "stderr",
          "output_type": "stream",
          "text": [
            "Processing PDFs:  72%|███████▏  | 140/194 [00:02<00:00, 71.81it/s]"
          ]
        },
        {
          "name": "stdout",
          "output_type": "stream",
          "text": [
            "✓ Found Mercedes document: 2023 Monaco Grand Prix - Infringement - Car 44 - Pit Lane Speeding.pdf\n",
            "✓ Found Mercedes document: 2023 Monaco Grand Prix - Infringement - Car 63 - Pit Lane Speeding.pdf\n",
            "✓ Found Mercedes document: 2023 Monaco Grand Prix - Infringement - Car 63 - Unsafe Rejoin.pdf\n"
          ]
        },
        {
          "name": "stderr",
          "output_type": "stream",
          "text": [
            "Processing PDFs:  80%|███████▉  | 155/194 [00:02<00:00, 52.46it/s]"
          ]
        },
        {
          "name": "stdout",
          "output_type": "stream",
          "text": [
            "✓ Found Mercedes document: 2023 Qatar Grand Prix - Infringement - Car 44 - Crossing the track.pdf\n",
            "✓ Found Mercedes document: 2023 Saudi Arabian Grand Prix - Offence - Mercedes - Inaccurate Scrutineering Form.pdf\n"
          ]
        },
        {
          "name": "stderr",
          "output_type": "stream",
          "text": [
            "Processing PDFs:  96%|█████████▌| 186/194 [00:03<00:00, 49.30it/s]"
          ]
        },
        {
          "name": "stdout",
          "output_type": "stream",
          "text": [
            "✓ Found Mercedes document: 2023 Spanish Grand Prix - Infringement - Car 63 - Abnormal change of direction.pdf\n",
            "✓ Found Mercedes document: 2023 Spanish Grand Prix - Infringement - Mercedes - Parc Ferme.pdf\n",
            "✓ Found Mercedes document: 2023 São Paulo Grand Prix - Infringement - Car 63 - Impeding at Pit Exit.pdf\n"
          ]
        },
        {
          "name": "stderr",
          "output_type": "stream",
          "text": [
            "Processing PDFs: 100%|██████████| 194/194 [00:03<00:00, 53.29it/s]\n"
          ]
        },
        {
          "name": "stdout",
          "output_type": "stream",
          "text": [
            "✓ Found Mercedes document: 2023 United States Grand Prix - Infringement - Car 44 - Technical non-compliance (Plank).pdf\n",
            "✓ Found Mercedes document: 2023 United States Grand Prix - Infringement - Car 63 - Impeding of Car 16.pdf\n",
            "✓ Found Mercedes document: 2023 United States Grand Prix - Infringement - Car 63 - Leaving the track.pdf\n",
            "Skipped 0 PDFs (TXT files already exist)\n",
            "Excluded 171 PDFs (not addressed to Mercedes only)\n",
            "\n",
            "✓ Found 23 Mercedes documents in 2023_inf_profile\n",
            "  - 2023 Abu Dhabi Grand Prix - Infringement - Mercedes - Team Principal (Updated).pdf (2240 chars)\n",
            "  - 2023 Australian Grand Prix - Decision - Mercedes - Inaccurate Self Scrutineering Form.pdf (1421 chars)\n",
            "  - 2023 Austrian Grand Prix - Infringement - Car 44 - Leaving the track multiple times.pdf (1281 chars)\n",
            "  - 2023 Austrian Grand Prix - Infringement - Car 44 - Pit Lane Speeding.pdf (1152 chars)\n",
            "  - 2023 Bahrain Grand Prix - Decision - Car 44 - Wearing of Jewellery.pdf (1347 chars)\n",
            "  - 2023 Belgian Grand Prix - Infringement - Car 44 - Causing a Collision.pdf (1504 chars)\n",
            "  - 2023 British Grand Prix - Infringement - Mercedes - Thursday Press Conference.pdf (2480 chars)\n",
            "  - 2023 Canadian Grand Prix - Decision - Car 44 - Alleged Unsafe Release.pdf (1274 chars)\n",
            "  - 2023 Italian Grand Prix - Infringement - Car 44 - Causing a Collision.pdf (1366 chars)\n",
            "  - 2023 Italian Grand Prix - Infringement - Car 63 - Leaving the track.pdf (1497 chars)\n",
            "  - 2023 Las Vegas Grand Prix - Infringement - Car 63 - Causing a collision.pdf (1457 chars)\n",
            "  - 2023 Miami Grand Prix - Decision - Car 44 - Turn 17 Incident.pdf (1717 chars)\n",
            "  - 2023 Monaco Grand Prix - Infringement - Car 44 - Pit Lane Speeding.pdf (1069 chars)\n",
            "  - 2023 Monaco Grand Prix - Infringement - Car 63 - Pit Lane Speeding.pdf (1069 chars)\n",
            "  - 2023 Monaco Grand Prix - Infringement - Car 63 - Unsafe Rejoin.pdf (1222 chars)\n",
            "  - 2023 Qatar Grand Prix - Infringement - Car 44 - Crossing the track.pdf (2447 chars)\n",
            "  - 2023 Saudi Arabian Grand Prix - Offence - Mercedes - Inaccurate Scrutineering Form.pdf (1419 chars)\n",
            "  - 2023 Spanish Grand Prix - Infringement - Car 63 - Abnormal change of direction.pdf (1754 chars)\n",
            "  - 2023 Spanish Grand Prix - Infringement - Mercedes - Parc Ferme.pdf (1625 chars)\n",
            "  - 2023 São Paulo Grand Prix - Infringement - Car 63 - Impeding at Pit Exit.pdf (2204 chars)\n",
            "  - 2023 United States Grand Prix - Infringement - Car 44 - Technical non-compliance (Plank).pdf (2235 chars)\n",
            "  - 2023 United States Grand Prix - Infringement - Car 63 - Impeding of Car 16.pdf (1911 chars)\n",
            "  - 2023 United States Grand Prix - Infringement - Car 63 - Leaving the track.pdf (1515 chars)\n",
            "\n",
            "==================================================\n",
            "PROCESSING 2024_INF_PROFILE\n",
            "==================================================\n",
            "\n",
            "Processing 215 PDF files in 2024_inf_profile...\n"
          ]
        },
        {
          "name": "stderr",
          "output_type": "stream",
          "text": [
            "Processing PDFs:  18%|█▊        | 38/215 [00:00<00:03, 54.36it/s]"
          ]
        },
        {
          "name": "stdout",
          "output_type": "stream",
          "text": [
            "✓ Found Mercedes document: 2024 Austrian Grand Prix - Infringement - Car 44 - Crossing the line at Pit Entry.pdf\n",
            "✓ Found Mercedes document: 2024 Austrian Grand Prix - Infringement - Car 44 - Unsafe release.pdf\n"
          ]
        },
        {
          "name": "stderr",
          "output_type": "stream",
          "text": [
            "Processing PDFs:  21%|██        | 45/215 [00:00<00:03, 56.16it/s]"
          ]
        },
        {
          "name": "stdout",
          "output_type": "stream",
          "text": [
            "✓ Found Mercedes document: 2024 Azerbaijan Grand Prix - Infringement - Car 44 - Changes made during Parc Ferme.pdf\n",
            "✓ Found Mercedes document: 2024 Azerbaijan Grand Prix - Infringement - Car 63 - Failing to slow for yellow flags.pdf\n"
          ]
        },
        {
          "name": "stderr",
          "output_type": "stream",
          "text": [
            "Processing PDFs:  27%|██▋       | 58/215 [00:01<00:03, 43.52it/s]"
          ]
        },
        {
          "name": "stdout",
          "output_type": "stream",
          "text": [
            "✓ Found Mercedes document: 2024 Belgian Grand Prix - Infringement - Car 63 - Technical non-compliance (Weight).pdf\n"
          ]
        },
        {
          "name": "stderr",
          "output_type": "stream",
          "text": [
            "Processing PDFs:  43%|████▎     | 92/215 [00:01<00:02, 50.81it/s]"
          ]
        },
        {
          "name": "stdout",
          "output_type": "stream",
          "text": [
            "✓ Found Mercedes document: 2024 Dutch Grand Prix - Infringement - Car 44 - impeding of Car 11.pdf\n"
          ]
        },
        {
          "name": "stderr",
          "output_type": "stream",
          "text": [
            "Processing PDFs:  53%|█████▎    | 114/215 [00:02<00:02, 47.20it/s]"
          ]
        },
        {
          "name": "stdout",
          "output_type": "stream",
          "text": [
            "✓ Found Mercedes document: 2024 Japanese Grand Prix - Infringement - Car 63 - Unsafe release.pdf\n"
          ]
        },
        {
          "name": "stderr",
          "output_type": "stream",
          "text": [
            "Processing PDFs:  69%|██████▉   | 149/215 [00:03<00:01, 51.10it/s]"
          ]
        },
        {
          "name": "stdout",
          "output_type": "stream",
          "text": [
            "✓ Found Mercedes document: 2024 Miami Grand Prix - Infringement - Car 44 - Pit Lane Speeding.pdf\n"
          ]
        },
        {
          "name": "stderr",
          "output_type": "stream",
          "text": [
            "Processing PDFs:  73%|███████▎  | 157/215 [00:03<00:01, 57.58it/s]"
          ]
        },
        {
          "name": "stdout",
          "output_type": "stream",
          "text": [
            "✓ Found Mercedes document: 2024 Qatar Grand Prix - Infringement - Car 44 - False Start.pdf\n",
            "✓ Found Mercedes document: 2024 Qatar Grand Prix - Infringement - Car 44 - Speeding in the Pit Lane.pdf\n",
            "✓ Found Mercedes document: 2024 Qatar Grand Prix - Infringement - Car 63 - Failing to maintain distance behind the Safety Car.pdf\n"
          ]
        },
        {
          "name": "stderr",
          "output_type": "stream",
          "text": [
            "Processing PDFs:  81%|████████  | 174/215 [00:03<00:00, 44.78it/s]"
          ]
        },
        {
          "name": "stdout",
          "output_type": "stream",
          "text": [
            "✓ Found Mercedes document: 2024 Saudi Arabian Grand Prix - Infringement - Car 44 - Impeding of Car 2.pdf\n"
          ]
        },
        {
          "name": "stderr",
          "output_type": "stream",
          "text": [
            "Processing PDFs:  91%|█████████ | 196/215 [00:04<00:00, 54.48it/s]"
          ]
        },
        {
          "name": "stdout",
          "output_type": "stream",
          "text": [
            "✓ Found Mercedes document: 2024 São Paulo Grand Prix - Infringement - Car 44 - Tyre Pressure Checks.pdf\n",
            "✓ Found Mercedes document: 2024 São Paulo Grand Prix - Infringement - Car 63 - Aborted Start incident.pdf\n",
            "✓ Found Mercedes document: 2024 São Paulo Grand Prix - Infringement - Car 63 - Tyre Pressure Checks.pdf\n"
          ]
        },
        {
          "name": "stderr",
          "output_type": "stream",
          "text": [
            "Processing PDFs:  97%|█████████▋| 209/215 [00:04<00:00, 48.38it/s]"
          ]
        },
        {
          "name": "stdout",
          "output_type": "stream",
          "text": [
            "✓ Found Mercedes document: 2024 United States Grand Prix - Infringement - Car 63 - Breach of Parc Ferme.pdf\n",
            "✓ Found Mercedes document: 2024 United States Grand Prix - Infringement - Car 63 - Forcing another driver off the track.pdf\n"
          ]
        },
        {
          "name": "stderr",
          "output_type": "stream",
          "text": [
            "Processing PDFs: 100%|██████████| 215/215 [00:05<00:00, 42.47it/s]"
          ]
        },
        {
          "name": "stdout",
          "output_type": "stream",
          "text": [
            "Skipped 0 PDFs (TXT files already exist)\n",
            "Excluded 198 PDFs (not addressed to Mercedes only)\n",
            "\n",
            "✓ Found 17 Mercedes documents in 2024_inf_profile\n",
            "  - 2024 Austrian Grand Prix - Infringement - Car 44 - Crossing the line at Pit Entry.pdf (1327 chars)\n",
            "  - 2024 Austrian Grand Prix - Infringement - Car 44 - Unsafe release.pdf (1448 chars)\n",
            "  - 2024 Azerbaijan Grand Prix - Infringement - Car 44 - Changes made during Parc Ferme.pdf (1739 chars)\n",
            "  - 2024 Azerbaijan Grand Prix - Infringement - Car 63 - Failing to slow for yellow flags.pdf (3109 chars)\n",
            "  - 2024 Belgian Grand Prix - Infringement - Car 63 - Technical non-compliance (Weight).pdf (2135 chars)\n",
            "  - 2024 Dutch Grand Prix - Infringement - Car 44 - impeding of Car 11.pdf (2132 chars)\n",
            "  - 2024 Japanese Grand Prix - Infringement - Car 63 - Unsafe release.pdf (2241 chars)\n",
            "  - 2024 Miami Grand Prix - Infringement - Car 44 - Pit Lane Speeding.pdf (1484 chars)\n",
            "  - 2024 Qatar Grand Prix - Infringement - Car 44 - False Start.pdf (1345 chars)\n",
            "  - 2024 Qatar Grand Prix - Infringement - Car 44 - Speeding in the Pit Lane.pdf (1113 chars)\n",
            "  - 2024 Qatar Grand Prix - Infringement - Car 63 - Failing to maintain distance behind the Safety Car.pdf (1397 chars)\n",
            "  - 2024 Saudi Arabian Grand Prix - Infringement - Car 44 - Impeding of Car 2.pdf (2072 chars)\n",
            "  - 2024 São Paulo Grand Prix - Infringement - Car 44 - Tyre Pressure Checks.pdf (2579 chars)\n",
            "  - 2024 São Paulo Grand Prix - Infringement - Car 63 - Aborted Start incident.pdf (2159 chars)\n",
            "  - 2024 São Paulo Grand Prix - Infringement - Car 63 - Tyre Pressure Checks.pdf (2579 chars)\n",
            "  - 2024 United States Grand Prix - Infringement - Car 63 - Breach of Parc Ferme.pdf (1195 chars)\n",
            "  - 2024 United States Grand Prix - Infringement - Car 63 - Forcing another driver off the track.pdf (1603 chars)\n"
          ]
        },
        {
          "name": "stderr",
          "output_type": "stream",
          "text": [
            "\n"
          ]
        }
      ],
      "source": [
        "# Process all year folders with strict filtering\n",
        "print(\"=\"*60)\n",
        "print(\"PROCESSING ALL YEARS WITH STRICT MERCEDES FILTERING\")\n",
        "print(\"=\"*60)\n",
        "\n",
        "all_mercedes_docs = []\n",
        "\n",
        "for year_folder in years:\n",
        "    print(f\"\\n{'='*50}\")\n",
        "    print(f\"PROCESSING {year_folder.upper()}\")\n",
        "    print(f\"{'='*50}\")\n",
        "    \n",
        "    mercedes_docs = process_year_folder_strict(year_folder)\n",
        "    if mercedes_docs:\n",
        "        all_mercedes_docs.extend(mercedes_docs)\n",
        "        print(f\"\\n✓ Found {len(mercedes_docs)} Mercedes documents in {year_folder}\")\n",
        "        for doc in mercedes_docs:\n",
        "            print(f\"  - {doc['pdf_file']} ({doc['text_length']} chars)\")\n",
        "    else:\n",
        "        print(f\"\\n✗ No Mercedes documents found in {year_folder}\")\n"
      ]
    },
    {
      "cell_type": "code",
      "execution_count": 8,
      "metadata": {},
      "outputs": [
        {
          "name": "stdout",
          "output_type": "stream",
          "text": [
            "\n",
            "============================================================\n",
            "MERCEDES DOCUMENT EXTRACTION SUMMARY (STRICT FILTERING)\n",
            "============================================================\n",
            "Total Mercedes documents found: 82\n",
            "Total text length: 137,437 characters\n",
            "\n",
            "Documents by year:\n",
            "  2020_inf_profile: 11 documents\n",
            "  2021_inf_profile: 16 documents\n",
            "  2022_inf_profile: 15 documents\n",
            "  2023_inf_profile: 23 documents\n",
            "  2024_inf_profile: 17 documents\n",
            "\n",
            "Sample documents:\n",
            "  - 2020 Austrian Grand Prix - Decision - Car 44 - alleged failure to slow for yellow flags.pdf (1438 chars)\n",
            "  - 2020 Austrian Grand Prix - Decision - review of decision (document 33).pdf (1124 chars)\n",
            "  - 2020 Austrian Grand Prix - Offence - Car 44 - Failure to slow for yellow flags (post review).pdf (1632 chars)\n",
            "  - 2020 Austrian Grand Prix - Offence - Car 44 - incident with car 23.pdf (1418 chars)\n",
            "  - 2020 Austrian Grand Prix - Offence - Car 44 - Leaving the track in turn 10.pdf (1623 chars)\n",
            "\n",
            "Summary saved to: mercedes_documents_summary_strict.csv\n"
          ]
        }
      ],
      "source": [
        "# Summary statistics\n",
        "if all_mercedes_docs:\n",
        "    df_mercedes = pd.DataFrame(all_mercedes_docs)\n",
        "    \n",
        "    print(\"\\n\" + \"=\"*60)\n",
        "    print(\"MERCEDES DOCUMENT EXTRACTION SUMMARY (STRICT FILTERING)\")\n",
        "    print(\"=\"*60)\n",
        "    \n",
        "    print(f\"Total Mercedes documents found: {len(all_mercedes_docs)}\")\n",
        "    print(f\"Total text length: {sum([doc['text_length'] for doc in all_mercedes_docs]):,} characters\")\n",
        "    \n",
        "    print(\"\\nDocuments by year:\")\n",
        "    year_counts = df_mercedes['year'].value_counts().sort_index()\n",
        "    for year, count in year_counts.items():\n",
        "        print(f\"  {year}: {count} documents\")\n",
        "    \n",
        "    print(\"\\nSample documents:\")\n",
        "    for _, row in df_mercedes.head().iterrows():\n",
        "        print(f\"  - {row['pdf_file']} ({row['text_length']} chars)\")\n",
        "    \n",
        "    # Save summary\n",
        "    df_mercedes.to_csv('mercedes_documents_summary_strict.csv', index=False)\n",
        "    print(\"\\nSummary saved to: mercedes_documents_summary_strict.csv\")\n",
        "    \n",
        "else:\n",
        "    print(\"\\nNo Mercedes documents found. Please check the filtering criteria.\")\n"
      ]
    },
    {
      "cell_type": "code",
      "execution_count": 9,
      "metadata": {},
      "outputs": [
        {
          "name": "stdout",
          "output_type": "stream",
          "text": [
            "\n",
            "============================================================\n",
            "SAMPLE EXTRACTED TEXT (STRICT FILTERING)\n",
            "============================================================\n",
            "Document: 2020 Austrian Grand Prix - Decision - Car 44 - alleged failure to slow for yellow flags.pdf\n",
            "Year: 2020_inf_profile\n",
            "Length: 1438 characters\n",
            "\n",
            "First 1000 characters:\n",
            "--------------------------------------------------\n",
            "From The Stewards To The Team Manager, Mercedes-AMG Petronas F1 TeamDocument 33 Date 04 July 2020 Time 19:44 2020 AUSTRIAN GRAND PRIX 2 - 5 July 2020 The StewardsThe Stewards, having received a report from the Race Director, summoned (document 29) and heard from the driver and team representative, have considered the following matter and determine the following: No / Driver 44 - Lewis Hamilton Competitor Mercedes-AMG Petronas F1 Team Time 15:59 Session Qualifying Fact Alleged failure to slow for single waved yellow flags between turn 5 and 7. Offence Alleged breach of Appendix H Article 2.5.5.1.b) of the FIA International Sporting Code. Decision No further action. Reason The Stewards heard from the driver of Car 44 (Lewis Hamilton) and the team representative and have reviewed video and telemetry evidences. The driver mentioned that he passed a green light panel in turn 5. The video footage confirmed that there have been yellow flags and green light panels at the same time and therefor...\n",
            "\n",
            "============================================================\n",
            "VERIFICATION: 'TO:' SECTION\n",
            "============================================================\n",
            "No 'To:' section found in the first 1000 characters\n"
          ]
        }
      ],
      "source": [
        "# Display sample of extracted text for verification\n",
        "if all_mercedes_docs:\n",
        "    print(\"\\n\" + \"=\"*60)\n",
        "    print(\"SAMPLE EXTRACTED TEXT (STRICT FILTERING)\")\n",
        "    print(\"=\"*60)\n",
        "    \n",
        "    # Get first Mercedes document\n",
        "    first_doc = all_mercedes_docs[0]\n",
        "    year_path = base_path / first_doc['year']\n",
        "    txt_path = year_path / first_doc['txt_file']\n",
        "    \n",
        "    if txt_path.exists():\n",
        "        with open(txt_path, 'r', encoding='utf-8') as f:\n",
        "            sample_text = f.read()\n",
        "        \n",
        "        print(f\"Document: {first_doc['pdf_file']}\")\n",
        "        print(f\"Year: {first_doc['year']}\")\n",
        "        print(f\"Length: {len(sample_text)} characters\")\n",
        "        print(\"\\nFirst 1000 characters:\")\n",
        "        print(\"-\" * 50)\n",
        "        print(sample_text[:1000] + \"...\" if len(sample_text) > 1000 else sample_text)\n",
        "        \n",
        "        # Show the \"To:\" section to verify filtering\n",
        "        print(\"\\n\" + \"=\"*60)\n",
        "        print(\"VERIFICATION: 'TO:' SECTION\")\n",
        "        print(\"=\"*60)\n",
        "        \n",
        "        # Find the \"To:\" section\n",
        "        to_match = re.search(r'to:.*?(?=\\n|$)', sample_text, re.IGNORECASE | re.DOTALL)\n",
        "        if to_match:\n",
        "            print(f\"Found 'To:' section: {to_match.group().strip()}\")\n",
        "        else:\n",
        "            print(\"No 'To:' section found in the first 1000 characters\")\n"
      ]
    },
    {
      "cell_type": "markdown",
      "metadata": {},
      "source": [
        "## Summary\n",
        "\n",
        "This notebook implements **strict filtering** for Mercedes F1 infringement documents:\n",
        "\n",
        "### ✅ **INCLUDED:**\n",
        "- Documents addressed specifically to \"Mercedes-AMG Petronas F1 Team\"\n",
        "- Documents addressed to \"The Team Manager, Mercedes-AMG Petronas F1 Team\"\n",
        "\n",
        "### ❌ **EXCLUDED:**\n",
        "- Documents addressed to \"All Teams, All Officials\"\n",
        "- Documents addressed to \"All Teams\"\n",
        "- Documents addressed to \"All Competitors\"\n",
        "- Documents addressed to \"All Participants\"\n",
        "- Documents addressed to \"All Drivers\"\n",
        "- Documents addressed to \"All Constructors\"\n",
        "\n",
        "### **Key Differences from Previous Versions:**\n",
        "1. **No car number filtering** - Only team address filtering\n",
        "2. **Stricter exclusion patterns** - More comprehensive list of \"all teams\" variations\n",
        "3. **Focused on team-specific documents** - Only documents specifically addressed to Mercedes\n",
        "\n",
        "This ensures we only capture documents that are specifically about Mercedes team infringements, not general FIA communications that happen to mention Mercedes drivers.\n"
      ]
    }
  ],
  "metadata": {
    "kernelspec": {
      "display_name": "Python 3",
      "language": "python",
      "name": "python3"
    },
    "language_info": {
      "codemirror_mode": {
        "name": "ipython",
        "version": 3
      },
      "file_extension": ".py",
      "mimetype": "text/x-python",
      "name": "python",
      "nbconvert_exporter": "python",
      "pygments_lexer": "ipython3",
      "version": "3.12.4"
    }
  },
  "nbformat": 4,
  "nbformat_minor": 2
}
